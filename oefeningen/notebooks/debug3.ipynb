{
 "cells": [
  {
   "cell_type": "code",
   "execution_count": null,
   "id": "6481dd8e",
   "metadata": {},
   "outputs": [],
   "source": [
    "def calculate_total(cart_items):\n",
    "    \"\"\"\n",
    "    Calculate the total cost of items in a shopping cart.\n",
    "    \n",
    "    Args:\n",
    "        cart_items (list): A list of tuples where each tuple contains the item name (str) and price (float or int).\n",
    "    \n",
    "    Returns:\n",
    "        float: The total cost of the items.\n",
    "    \"\"\"\n",
    "    total = 0\n",
    "    for item, price in cart_items:\n",
    "        print(f\"Adding {item} with price {price} to total.\")\n",
    "        total += price\n",
    "    return total\n",
    "\n",
    "def main():\n",
    "    \n",
    "    shopping_cart = [\n",
    "        (\"Apples\", 3.50),\n",
    "        (\"Bananas\", '2.75'),\n",
    "        (\"Cherries\", 5.00)\n",
    "    ]\n",
    "    \n",
    "    try:\n",
    "        total = calculate_total(shopping_cart)\n",
    "        print(f\"The total cost is: ${total:.2f}\")\n",
    "    except TypeError as e:\n",
    "        print(\"A TypeError occurred while calculating the total:\")\n",
    "        print(e)\n",
    "\n",
    "if __name__ == \"__main__\":\n",
    "    main()\n"
   ]
  }
 ],
 "metadata": {
  "kernelspec": {
   "display_name": "Python 3 (ipykernel)",
   "language": "python",
   "name": "python3"
  },
  "language_info": {
   "codemirror_mode": {
    "name": "ipython",
    "version": 3
   },
   "file_extension": ".py",
   "mimetype": "text/x-python",
   "name": "python",
   "nbconvert_exporter": "python",
   "pygments_lexer": "ipython3",
   "version": "3.10.9"
  }
 },
 "nbformat": 4,
 "nbformat_minor": 5
}
