{
 "cells": [
  {
   "cell_type": "code",
   "execution_count": null,
   "id": "0e044c21",
   "metadata": {},
   "outputs": [],
   "source": [
    "import argparse\n",
    "import math\n",
    "\n",
    "def calculate_cone_properties(radius, height, scale):\n",
    "    \"\"\"\n",
    "    Calculate the volume and surface area of a cone.\n",
    "    \n",
    "    Args:\n",
    "        radius (float): The radius of the cone's base.\n",
    "        height (float): The height of the cone.\n",
    "        scale (float): An optional scale factor to resize the cone.\n",
    "        \n",
    "    Returns:\n",
    "        tuple: Scaled volume and surface area of the cone.\n",
    "    \"\"\"\n",
    "    # Apply scale factor\n",
    "    radius *= scale\n",
    "    height *= scale\n",
    "    \n",
    "    # Calculate volume and surface area\n",
    "    volume = (1/3) * math.pi * radius**2 * height\n",
    "    slant_height = math.sqrt(radius**2 + height**2)\n",
    "    surface_area = math.pi * radius * (radius + slant_height)\n",
    "    \n",
    "    return volume, surface_area\n",
    "\n",
    "def main():\n",
    "    # calculate_cone_properties here\n",
    "\n",
    "    # radius\n",
    "    radius = 2\n",
    "    # height\n",
    "    height = 10\n",
    "    # scale\n",
    "    scale = 2.2\n",
    "    \n",
    "    # Calculate properties\n",
    "    volume, surface_area = calculate_cone_properties(radius, scale)\n",
    "    \n",
    "    # Output results\n",
    "    print(f\"Scaled Cone Properties:\")\n",
    "    print(f\" - Volume: {volume:.2f} cubic units\")\n",
    "    print(f\" - Surface Area: {surface_area:.2f} square units\")\n",
    "\n",
    "if __name__ == \"__main__\":\n",
    "    main()\n"
   ]
  }
 ],
 "metadata": {
  "kernelspec": {
   "display_name": "Python 3 (ipykernel)",
   "language": "python",
   "name": "python3"
  },
  "language_info": {
   "codemirror_mode": {
    "name": "ipython",
    "version": 3
   },
   "file_extension": ".py",
   "mimetype": "text/x-python",
   "name": "python",
   "nbconvert_exporter": "python",
   "pygments_lexer": "ipython3",
   "version": "3.10.9"
  }
 },
 "nbformat": 4,
 "nbformat_minor": 5
}
