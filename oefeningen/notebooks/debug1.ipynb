{
 "cells": [
  {
   "cell_type": "code",
   "execution_count": null,
   "id": "14d4f883",
   "metadata": {},
   "outputs": [],
   "source": [
    "import numpy as np\n",
    "import matplotlib.cm as cm\n",
    "import matplotlib.pyplot as p1t\n",
    "\n",
    "# Generate sample data\n",
    "np.random.seed(42)  # For reproducibility\n",
    "x = np.random.rand(100)\n",
    "y = np.random.rand(100)\n",
    "sizes = np.random.rand(100) * 100  # Variable point sizes\n",
    "colors = np.random.rand(100)  # Variable colors\n",
    "\n",
    "# Create a colormap\n",
    "cmap = cm.get_cmap('viridis')\n",
    "\n",
    "# Create the scatter plot\n",
    "plt.figure(figsize=(10, 6))\n",
    "scatter = plt.scatter(x, y, c=colors, s=sizes, alpha=0.7, cmap=cmap, edgecolor='w', linewidth=0.5)\n",
    "\n",
    "# Add a color bar\n",
    "colorbar = plt.colorbar(scatter)\n",
    "colorbar.set_label('Color Scale', fontsize=12)\n",
    "\n",
    "# Add labels and title\n",
    "plt.title('Very cool Scatter Plot', fontsize=16, fontweight='bold')\n",
    "plt.xlabel('X-axis Label', fontsize=12)\n",
    "plt.ylabel('Y-axis Label', fontsize=12)\n",
    "\n",
    "# Style adjustments\n",
    "plt.grid(True, linestyle='--', alpha=0.6)\n",
    "plt.tight_layout()\n",
    "\n",
    "# Show the plot\n",
    "plt.show()\n"
   ]
  }
 ],
 "metadata": {
  "kernelspec": {
   "display_name": "Python 3 (ipykernel)",
   "language": "python",
   "name": "python3"
  },
  "language_info": {
   "codemirror_mode": {
    "name": "ipython",
    "version": 3
   },
   "file_extension": ".py",
   "mimetype": "text/x-python",
   "name": "python",
   "nbconvert_exporter": "python",
   "pygments_lexer": "ipython3",
   "version": "3.10.9"
  }
 },
 "nbformat": 4,
 "nbformat_minor": 5
}
