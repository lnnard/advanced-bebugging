{
 "cells": [
  {
   "cell_type": "code",
   "execution_count": null,
   "id": "71c5e4cc",
   "metadata": {},
   "outputs": [],
   "source": [
    "import numpy as np\n",
    "\n",
    "def generate_sequence(current, previous, terms_left):\n",
    "    \"\"\"\n",
    "    Recursively generates a sequence of numbers where each number is \n",
    "    the sum of the previous two numbers.\n",
    "    \n",
    "    Args:\n",
    "        current (int): The current number in the sequence.\n",
    "        previous (int): The previous number in the sequence.\n",
    "        terms_left (int): The number of terms left to generate.\n",
    "\n",
    "    Returns:\n",
    "        list: The sequence of numbers.\n",
    "    \"\"\"\n",
    "    # Base case: Stop recursion when no terms are left\n",
    "    if terms_left == 0:\n",
    "        return []\n",
    "    \n",
    "    # Generate the next number and continue recursion\n",
    "    next_number = current + previous\n",
    "    return [current] + generate_sequence(next_number, current, terms_left - 1)\n",
    "\n",
    "def main():\n",
    "    start_value = np.uint8(1)\n",
    "    #start_value = 1  # The initial value\n",
    "    terms = 100  # The number of terms to generate\n",
    "    \n",
    "    # Generate the sequence starting with the given value\n",
    "    sequence = generate_sequence(start_value, np.uint8(0), terms)\n",
    "    print(f\"Generated sequence: {sequence}\")\n",
    "\n",
    "if __name__ == \"__main__\":\n",
    "    main()\n"
   ]
  }
 ],
 "metadata": {
  "kernelspec": {
   "display_name": "Python 3 (ipykernel)",
   "language": "python",
   "name": "python3"
  },
  "language_info": {
   "codemirror_mode": {
    "name": "ipython",
    "version": 3
   },
   "file_extension": ".py",
   "mimetype": "text/x-python",
   "name": "python",
   "nbconvert_exporter": "python",
   "pygments_lexer": "ipython3",
   "version": "3.10.9"
  }
 },
 "nbformat": 4,
 "nbformat_minor": 5
}
