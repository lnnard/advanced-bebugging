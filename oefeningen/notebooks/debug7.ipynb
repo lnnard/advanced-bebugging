{
 "cells": [
  {
   "cell_type": "code",
   "execution_count": null,
   "id": "47791394",
   "metadata": {},
   "outputs": [],
   "source": [
    "def calculate_ratio(numerator, denominator):\n",
    "    \"\"\"\n",
    "    Calculate the ratio of two numbers.\n",
    "\n",
    "    Args:\n",
    "        numerator (float): The numerator of the ratio.\n",
    "        denominator (float): The denominator of the ratio.\n",
    "\n",
    "    Returns:\n",
    "        float: The calculated ratio.\n",
    "    \"\"\"\n",
    "    return numerator / denominator\n",
    "\n",
    "def main():\n",
    "    \n",
    "    try:\n",
    "        numerator = 10\n",
    "        denominator = 0\n",
    "        \n",
    "        \n",
    "        result = calculate_ratio(numerator, denominator)\n",
    "        print(f\"The ratio is: {result}\")\n",
    "    except Exception:\n",
    "        print(\"error happened\")\n",
    "\n",
    "if __name__ == \"__main__\":\n",
    "    main()\n"
   ]
  }
 ],
 "metadata": {
  "kernelspec": {
   "display_name": "Python 3 (ipykernel)",
   "language": "python",
   "name": "python3"
  },
  "language_info": {
   "codemirror_mode": {
    "name": "ipython",
    "version": 3
   },
   "file_extension": ".py",
   "mimetype": "text/x-python",
   "name": "python",
   "nbconvert_exporter": "python",
   "pygments_lexer": "ipython3",
   "version": "3.10.9"
  }
 },
 "nbformat": 4,
 "nbformat_minor": 5
}
