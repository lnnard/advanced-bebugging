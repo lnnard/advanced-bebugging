{
 "cells": [
  {
   "cell_type": "code",
   "execution_count": null,
   "id": "e9c3f3f6",
   "metadata": {},
   "outputs": [],
   "source": [
    "def calculate_average(numbers):\n",
    "    \"\"\"\n",
    "    Calculate the average of a list of numbers.\n",
    "\n",
    "    Args:\n",
    "        numbers (list): A list of numbers.\n",
    "\n",
    "    Returns:\n",
    "        float: The average of the numbers.\n",
    "    \"\"\"\n",
    "    total = 0\n",
    "    count = 0\n",
    "    for num in numbers:\n",
    "        total += num\n",
    "        count += 1\n",
    "        \n",
    "        return total / count\n",
    "\n",
    "def main():\n",
    "    numbers = [10, 20, 30, 40, 50]\n",
    "    try:\n",
    "        average = calculate_average(numbers)\n",
    "        print(f\"The average is: {average}\")\n",
    "    except ZeroDivisionError:\n",
    "        print(\"Cannot calculate the average of an empty list.\")\n",
    "\n",
    "if __name__ == \"__main__\":\n",
    "    main()\n"
   ]
  }
 ],
 "metadata": {
  "kernelspec": {
   "display_name": "Python 3 (ipykernel)",
   "language": "python",
   "name": "python3"
  },
  "language_info": {
   "codemirror_mode": {
    "name": "ipython",
    "version": 3
   },
   "file_extension": ".py",
   "mimetype": "text/x-python",
   "name": "python",
   "nbconvert_exporter": "python",
   "pygments_lexer": "ipython3",
   "version": "3.10.9"
  }
 },
 "nbformat": 4,
 "nbformat_minor": 5
}
