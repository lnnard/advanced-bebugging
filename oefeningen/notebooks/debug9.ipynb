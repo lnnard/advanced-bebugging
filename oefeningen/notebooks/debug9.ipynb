{
 "cells": [
  {
   "cell_type": "code",
   "execution_count": null,
   "id": "67dc98e9",
   "metadata": {},
   "outputs": [],
   "source": [
    "def calculate_total(prices):\n",
    "    \"\"\"\n",
    "    Calculate the total price of items in the shopping cart.\n",
    "    \n",
    "    Args:\n",
    "        prices (list): A list of item prices.\n",
    "    \"\"\"\n",
    "    total = sum(prices)\n",
    "    print(total)\n",
    "\n",
    "def checkout(prices):\n",
    "    \"\"\"\n",
    "    Simulate the checkout process and provide the total.\n",
    "    \n",
    "    Args:\n",
    "        prices (list): A list of item prices.\n",
    "    \"\"\"\n",
    "    total_price = calculate_total(prices)\n",
    "    print(f\"The total price is: {total_price}\") \n",
    "\n",
    "# Example usage\n",
    "items = [9.99, 19.99, 4.99, 3.50]\n",
    "checkout(items)\n"
   ]
  }
 ],
 "metadata": {
  "kernelspec": {
   "display_name": "Python 3 (ipykernel)",
   "language": "python",
   "name": "python3"
  },
  "language_info": {
   "codemirror_mode": {
    "name": "ipython",
    "version": 3
   },
   "file_extension": ".py",
   "mimetype": "text/x-python",
   "name": "python",
   "nbconvert_exporter": "python",
   "pygments_lexer": "ipython3",
   "version": "3.10.9"
  }
 },
 "nbformat": 4,
 "nbformat_minor": 5
}
