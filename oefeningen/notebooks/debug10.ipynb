{
 "cells": [
  {
   "cell_type": "code",
   "execution_count": null,
   "id": "3851f51a",
   "metadata": {},
   "outputs": [],
   "source": [
    "x=10\n",
    "y=30\n",
    "\n",
    "def XplusY():\n",
    "    result = x+y\n",
    "    return result\n",
    "\n",
    "def main():\n",
    "    w =10\n",
    "    \n",
    "    w = XplusY()\n",
    "    print(w)\n",
    "\n",
    "\n",
    "if __name__ == \"__main__\":\n",
    "    main()\n"
   ]
  }
 ],
 "metadata": {
  "kernelspec": {
   "display_name": "Python 3 (ipykernel)",
   "language": "python",
   "name": "python3"
  },
  "language_info": {
   "codemirror_mode": {
    "name": "ipython",
    "version": 3
   },
   "file_extension": ".py",
   "mimetype": "text/x-python",
   "name": "python",
   "nbconvert_exporter": "python",
   "pygments_lexer": "ipython3",
   "version": "3.10.9"
  }
 },
 "nbformat": 4,
 "nbformat_minor": 5
}
