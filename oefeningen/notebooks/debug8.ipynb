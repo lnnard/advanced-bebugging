{
 "cells": [
  {
   "cell_type": "code",
   "execution_count": null,
   "id": "46b0d022",
   "metadata": {},
   "outputs": [],
   "source": [
    "def print_list_items(numbers):\n",
    "    \"\"\"\n",
    "    Print each item in the list of numbers.\n",
    "    \n",
    "    Args:\n",
    "        numbers (list): A list of numbers.\n",
    "    \"\"\"\n",
    "    index = 0\n",
    "    while index <= len(numbers):  \n",
    "        print(numbers[index])\n",
    "        index += 1\n",
    "\n",
    "def main():\n",
    "    numbers = [10, 20, 30, 40, 50]  # A simple list of numbers\n",
    "    try:\n",
    "        print_list_items(numbers)\n",
    "    except IndexError as e:\n",
    "        print(f\"An error occurred: {e}\")\n",
    "\n",
    "if __name__ == \"__main__\":\n",
    "    main()\n"
   ]
  }
 ],
 "metadata": {
  "kernelspec": {
   "display_name": "Python 3 (ipykernel)",
   "language": "python",
   "name": "python3"
  },
  "language_info": {
   "codemirror_mode": {
    "name": "ipython",
    "version": 3
   },
   "file_extension": ".py",
   "mimetype": "text/x-python",
   "name": "python",
   "nbconvert_exporter": "python",
   "pygments_lexer": "ipython3",
   "version": "3.10.9"
  }
 },
 "nbformat": 4,
 "nbformat_minor": 5
}
